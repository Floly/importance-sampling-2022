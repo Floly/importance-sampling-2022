{
 "cells": [
  {
   "cell_type": "markdown",
   "source": [
    "This notebook contains the code that was used to create csv files with assets price data."
   ],
   "metadata": {
    "collapsed": false
   }
  },
  {
   "cell_type": "code",
   "execution_count": 3,
   "outputs": [],
   "source": [
    "import pandas as pd\n",
    "import investiny"
   ],
   "metadata": {
    "collapsed": false
   }
  },
  {
   "cell_type": "markdown",
   "source": [
    "# Stocks"
   ],
   "metadata": {
    "collapsed": false
   }
  },
  {
   "cell_type": "code",
   "execution_count": 93,
   "outputs": [],
   "source": [
    "stocks = ['AAPL', 'AMD', 'TSLA', 'AMZN', 'NVDA', 'INTC', 'MU', 'MSFT', 'META', 'GOOGL']"
   ],
   "metadata": {
    "collapsed": false
   }
  },
  {
   "cell_type": "code",
   "execution_count": 94,
   "outputs": [
    {
     "name": "stdout",
     "output_type": "stream",
     "text": [
      "{'symbol': 'AAPL', 'full_name': 'NASDAQ:AAPL', 'description': 'Apple Inc', 'type': 'Stock', 'ticker': '6408', 'exchange': 'NASDAQ'}\n",
      "{'symbol': 'AMD', 'full_name': 'NASDAQ:AMD', 'description': 'Advanced Micro Devices Inc', 'type': 'Stock', 'ticker': '8274', 'exchange': 'NASDAQ'}\n",
      "{'symbol': 'TSLA', 'full_name': 'NASDAQ:TSLA', 'description': 'Tesla Inc', 'type': 'Stock', 'ticker': '13994', 'exchange': 'NASDAQ'}\n",
      "{'symbol': 'AMZN', 'full_name': 'NASDAQ:AMZN', 'description': 'Amazon.com Inc', 'type': 'Stock', 'ticker': '6435', 'exchange': 'NASDAQ'}\n",
      "{'symbol': 'NVDA', 'full_name': 'NASDAQ:NVDA', 'description': 'NVIDIA Corporation', 'type': 'Stock', 'ticker': '6497', 'exchange': 'NASDAQ'}\n",
      "{'symbol': 'INTC', 'full_name': 'NASDAQ:INTC', 'description': 'Intel Corporation', 'type': 'Stock', 'ticker': '251', 'exchange': 'NASDAQ'}\n",
      "{'symbol': 'MU', 'full_name': 'NASDAQ:MU', 'description': 'Micron Technology Inc', 'type': 'Stock', 'ticker': '8092', 'exchange': 'NASDAQ'}\n",
      "{'symbol': 'MSFT', 'full_name': 'NASDAQ:MSFT', 'description': 'Microsoft Corporation', 'type': 'Stock', 'ticker': '252', 'exchange': 'NASDAQ'}\n",
      "{'symbol': 'META', 'full_name': 'NASDAQ:META', 'description': 'Meta Platforms Inc', 'type': 'Stock', 'ticker': '26490', 'exchange': 'NASDAQ'}\n",
      "{'symbol': 'GOOGL', 'full_name': 'NASDAQ:GOOGL', 'description': 'Alphabet Inc Class A', 'type': 'Stock', 'ticker': '6369', 'exchange': 'NASDAQ'}\n"
     ]
    }
   ],
   "source": [
    "EXCHANGE_STOCKS = 'NASDAQ'\n",
    "investing_id_stocks = {}\n",
    "for ticker in stocks:\n",
    "    results = investiny.search_assets(query=ticker, type='Stock', exchange=EXCHANGE_STOCKS)\n",
    "    for result in results:\n",
    "        if result['full_name'] == f'{EXCHANGE_STOCKS}:{ticker}':\n",
    "            break\n",
    "    print(result)\n",
    "    investing_id_stocks[ticker] = result['ticker']"
   ],
   "metadata": {
    "collapsed": false
   }
  },
  {
   "cell_type": "code",
   "execution_count": 95,
   "outputs": [
    {
     "data": {
      "text/plain": "{'AAPL': '6408',\n 'AMD': '8274',\n 'TSLA': '13994',\n 'AMZN': '6435',\n 'NVDA': '6497',\n 'INTC': '251',\n 'MU': '8092',\n 'MSFT': '252',\n 'META': '26490',\n 'GOOGL': '6369'}"
     },
     "execution_count": 95,
     "metadata": {},
     "output_type": "execute_result"
    }
   ],
   "source": [
    "investing_id_stocks"
   ],
   "metadata": {
    "collapsed": false
   }
  },
  {
   "cell_type": "code",
   "execution_count": 69,
   "outputs": [],
   "source": [
    "investing_id_stocks = {\n",
    "    'AAPL': 6408,\n",
    "    'AMD': 8274,\n",
    "    'TSLA': 13994,\n",
    "    'AMZN': 6435,\n",
    "    'NVDA': 6497,\n",
    "    'INTC': 251,\n",
    "    'MU': 8092,\n",
    "    'MSFT': 252,\n",
    "    'META': 26490,\n",
    "    'GOOGL': 6369\n",
    "}"
   ],
   "metadata": {
    "collapsed": false
   }
  },
  {
   "cell_type": "markdown",
   "source": [
    "# Commodities"
   ],
   "metadata": {
    "collapsed": false
   }
  },
  {
   "cell_type": "markdown",
   "source": [
    "For commodities, investing.com id's were searched manually to ensure the correct ticker is choosed."
   ],
   "metadata": {
    "collapsed": false
   }
  },
  {
   "cell_type": "code",
   "execution_count": 106,
   "outputs": [
    {
     "data": {
      "text/plain": "[{'symbol': 'ZC',\n  'full_name': ':ZC',\n  'description': 'US Corn Futures',\n  'type': 'Commodity',\n  'ticker': '8918',\n  'exchange': ''},\n {'symbol': 'CLRc1',\n  'full_name': 'ZCE:CLRc1',\n  'description': 'ZCE Late Long grain Nonglutinous Rice',\n  'type': 'Commodity',\n  'ticker': '1116101',\n  'exchange': 'ZCE'},\n {'symbol': 'CJRc1',\n  'full_name': 'ZCE:CJRc1',\n  'description': 'ZCE Japonica Rice',\n  'type': 'Commodity',\n  'ticker': '1116100',\n  'exchange': 'ZCE'},\n {'symbol': 'CZCc1',\n  'full_name': 'ZCE:CZCc1',\n  'description': 'ZCE Thermal Coal',\n  'type': 'Commodity',\n  'ticker': '1116099',\n  'exchange': 'ZCE'},\n {'symbol': 'CMAc1',\n  'full_name': 'ZCE:CMAc1',\n  'description': 'ZCE Methanol Energy',\n  'type': 'Commodity',\n  'ticker': '1116102',\n  'exchange': 'ZCE'},\n {'symbol': 'CESMc1',\n  'full_name': 'ZCE:CESMc1',\n  'description': 'ZCE Silicomanganese',\n  'type': 'Commodity',\n  'ticker': '1116103',\n  'exchange': 'ZCE'},\n {'symbol': 'CCYc1',\n  'full_name': 'ZCE:CCYc1',\n  'description': 'ZCE Cotton Yarn',\n  'type': 'Commodity',\n  'ticker': '1116106',\n  'exchange': 'ZCE'},\n {'symbol': 'CAPc1',\n  'full_name': 'ZCE:CAPc1',\n  'description': 'ZCE Apple',\n  'type': 'Commodity',\n  'ticker': '1116105',\n  'exchange': 'ZCE'},\n {'symbol': 'CESFc1',\n  'full_name': 'ZCE:CESFc1',\n  'description': 'ZCE Ferrosilicon',\n  'type': 'Commodity',\n  'ticker': '1116104',\n  'exchange': 'ZCE'},\n {'symbol': 'CFGc1',\n  'full_name': 'ZCE:CFGc1',\n  'description': 'ZCE Glass',\n  'type': 'Commodity',\n  'ticker': '1116097',\n  'exchange': 'ZCE'}]"
     },
     "execution_count": 106,
     "metadata": {},
     "output_type": "execute_result"
    }
   ],
   "source": [
    "investiny.search_assets(query='ZC', type='Commodity')"
   ],
   "metadata": {
    "collapsed": false
   }
  },
  {
   "cell_type": "code",
   "execution_count": 108,
   "outputs": [],
   "source": [
    "investing_id_commodities = {\n",
    "    'Brent Oil Futures': 8833,\n",
    "    'Crude Oil WTI Futures': 8849,\n",
    "    'Natural Gas Futures': 8862,\n",
    "    'Heating Oil Futures': 8988,\n",
    "    'Gold Futures': 8830,\n",
    "    'Silver Futures': 8836,\n",
    "    'Copper Futures': 8831,  # ticker: HG, exchange: COMEX\n",
    "    'Platinum Futures': 8910,\n",
    "    'US Coffee C Futures': 8832,\n",
    "    'US Corn Futures': 8918,\n",
    "}"
   ],
   "metadata": {
    "collapsed": false
   }
  },
  {
   "cell_type": "markdown",
   "source": [
    "# Cryptocurrencies"
   ],
   "metadata": {
    "collapsed": false
   }
  },
  {
   "cell_type": "markdown",
   "source": [
    "For crypto, investing.com id's were also searched manually."
   ],
   "metadata": {
    "collapsed": false
   },
   "outputs": []
  },
  {
   "cell_type": "code",
   "execution_count": 93,
   "outputs": [],
   "source": [
    "crypto = ['BTC', 'ETH', 'USDT', 'USDC', 'BNB', 'XRP', 'BUSD', 'ADA', 'SOL', 'DOGE']"
   ],
   "metadata": {
    "collapsed": false
   }
  },
  {
   "cell_type": "code",
   "execution_count": 135,
   "outputs": [
    {
     "data": {
      "text/plain": "[{'symbol': 'ETH/USD',\n  'full_name': 'Binance:ETH/USD',\n  'description': 'Ethereum US Dollar',\n  'type': 'Forex',\n  'ticker': '1058142',\n  'exchange': 'Binance'},\n {'symbol': 'ETH/USD',\n  'full_name': 'Investing.com:ETH/USD',\n  'description': 'Ethereum',\n  'type': 'Index',\n  'ticker': '1061443',\n  'exchange': 'Investing.com'},\n {'symbol': 'ETHHu',\n  'full_name': 'Toronto:ETHHu',\n  'description': 'Purpose Ether USD ETF Non-Currency Hedged',\n  'type': 'ETF',\n  'ticker': '1173287',\n  'exchange': 'Toronto'},\n {'symbol': 'USD/ETH',\n  'full_name': ':USD/ETH',\n  'description': 'US Dollar Ethereum',\n  'type': 'Forex',\n  'ticker': '1062237',\n  'exchange': ''},\n {'symbol': 'ETHRu',\n  'full_name': 'Toronto:ETHRu',\n  'description': 'Ether ETF USD Unhedged Units',\n  'type': 'ETF',\n  'ticker': '1172986',\n  'exchange': 'Toronto'},\n {'symbol': 'ETHYu',\n  'full_name': 'Toronto:ETHYu',\n  'description': 'Purpose Ether Yield ETF - USD ETF Non-Currency Hedged Units',\n  'type': 'ETF',\n  'ticker': '1185580',\n  'exchange': 'Toronto'},\n {'symbol': 'ETHAX/USD',\n  'full_name': 'DigiFinex:ETHAX/USD',\n  'description': 'ETHAX US Dollar',\n  'type': 'Forex',\n  'ticker': '1194996',\n  'exchange': 'DigiFinex'},\n {'symbol': 'ETHM/USD',\n  'full_name': 'Synthetic:ETHM/USD',\n  'description': 'Ethereum Meta US Dollar',\n  'type': 'Forex',\n  'ticker': '1152982',\n  'exchange': 'Synthetic'},\n {'symbol': 'ETHD/USD',\n  'full_name': 'Synthetic:ETHD/USD',\n  'description': 'Ethereum Dark US Dollar',\n  'type': 'Forex',\n  'ticker': '1070700',\n  'exchange': 'Synthetic'},\n {'symbol': 'ETH/USD',\n  'full_name': 'Bitfinex:ETH/USD',\n  'description': 'Ethereum US Dollar',\n  'type': 'Forex',\n  'ticker': '997650',\n  'exchange': 'Bitfinex'}]"
     },
     "execution_count": 135,
     "metadata": {},
     "output_type": "execute_result"
    }
   ],
   "source": [
    "investiny.search_assets(query='ETH/USD')"
   ],
   "metadata": {
    "collapsed": false
   }
  },
  {
   "cell_type": "code",
   "execution_count": null,
   "outputs": [],
   "source": [
    "# investing_id_crypto = {\n",
    "#     'BTC': ,\n",
    "#     'ETH': ,\n",
    "#     'USDT': ,\n",
    "#     'USDC': ,\n",
    "#     'BNB': ,\n",
    "#     'XRP': ,\n",
    "#     'BUSD': ,\n",
    "#     'ADA': ,\n",
    "#     'SOL': ,\n",
    "#     'DOGE': ,\n",
    "# }"
   ],
   "metadata": {
    "collapsed": false
   }
  },
  {
   "cell_type": "code",
   "execution_count": null,
   "outputs": [],
   "source": [
    "EXCHANGE_CRYPTO = 'BINANCE'\n",
    "investing_id_crypto = {}\n",
    "for ticker in crypto:\n",
    "    results = investiny.search_assets(query=ticker, exchange=EXCHANGE_CRYPTO)\n",
    "    for result in results:\n",
    "        if result['full_name'] == f'{EXCHANGE_CRYPTO}:{ticker}':\n",
    "            break\n",
    "    print(result)\n",
    "    investing_id_stocks[ticker] = result['ticker']"
   ],
   "metadata": {
    "collapsed": false,
    "pycharm": {
     "is_executing": true
    }
   }
  },
  {
   "cell_type": "markdown",
   "source": [
    "For BTC, I could not find Binance data using `investiny`, so I manually downloaded the csv data from [https://www.investing.com/crypto/bitcoin/btc-usd?cid=1035793](https://www.investing.com/crypto/bitcoin/btc-usd?cid=1035793) and renamed the columns."
   ],
   "metadata": {
    "collapsed": false
   }
  },
  {
   "cell_type": "code",
   "execution_count": 133,
   "outputs": [],
   "source": [
    "btc = pd.read_csv('data/crypto/BTC.csv')\n",
    "btc = btc.rename(columns={'Date': 'date', 'Price': 'close', 'Open': 'open', 'High': 'high', 'Low': 'low', 'Vol.': 'volume'})\n",
    "btc = btc.drop(columns=['Change %'])\n",
    "btc = btc[['date', 'open', 'high', 'low', 'close', 'volume']]"
   ],
   "metadata": {
    "collapsed": false
   }
  },
  {
   "cell_type": "markdown",
   "source": [
    "# Download data"
   ],
   "metadata": {
    "collapsed": false
   }
  },
  {
   "cell_type": "code",
   "execution_count": 70,
   "outputs": [],
   "source": [
    "def get_df(investing_id, from_date, to_date, actual_min_date) -> pd.DataFrame:\n",
    "    \"\"\"Creates pandas.DataFrame with historical market data for given financial asset.\n",
    "\n",
    "    All parameters, except `actual_min_date`, are passed to investiny.historical_data().\n",
    "    See documentation for this function for the meaning of these parameters.\n",
    "\n",
    "    The date `from_date` should be at least a week before than `actual_min_date` to make\n",
    "    sure that the data contains the previous trading day before from_date. This is needed\n",
    "    because for some assets there is no data available on 01/01/2020 (the minimum possible\n",
    "    value of parameter `from_date` in returns generating functions in `data.py`).\n",
    "\n",
    "    IMPORTANT: all dates must be in format 'MM/DD/YYYY'\n",
    "\n",
    "    :param actual_min_date: the minimum possible value of parameter `from_date`\n",
    "        in returns generating functions in `data.py`\n",
    "    :return: pandas.DataFrame with historical market data, including one previous\n",
    "        trading day before the date `from_date`.\n",
    "    \"\"\"\n",
    "    data_dict = investiny.historical_data(investing_id, from_date, to_date)\n",
    "    df = pd.DataFrame.from_dict(data_dict)\n",
    "    df['date'] = pd.to_datetime(df['date'])\n",
    "    # index of the row that is previous to `actual_min_date`\n",
    "    previous_to_min = df.loc[df['date'] == actual_min_date].index.item() - 1\n",
    "    df = df.iloc[previous_to_min:]\n",
    "    return df"
   ],
   "metadata": {
    "collapsed": false
   }
  },
  {
   "cell_type": "code",
   "execution_count": null,
   "outputs": [],
   "source": [
    "# dates format: MM/DD/YYYY\n",
    "actual_min_date = '01/02/2020'\n",
    "min_date = '12/01/2019'\n",
    "max_date = '10/01/2022'"
   ],
   "metadata": {
    "collapsed": false
   }
  },
  {
   "cell_type": "code",
   "execution_count": 71,
   "outputs": [],
   "source": [
    "for ticker in stocks:\n",
    "    df = get_df(investing_id_stocks[ticker], min_date, max_date, actual_min_date)\n",
    "    df.to_csv(f'data/stocks/{ticker}.csv', index=False)"
   ],
   "metadata": {
    "collapsed": false
   }
  },
  {
   "cell_type": "code",
   "execution_count": 112,
   "outputs": [],
   "source": [
    "for name in investing_id_commodities.keys():\n",
    "    df = get_df(investing_id_commodities[name], min_date, max_date, actual_min_date)\n",
    "    df.to_csv(f'data/commodities/{name}.csv', index=False)"
   ],
   "metadata": {
    "collapsed": false
   }
  },
  {
   "cell_type": "code",
   "execution_count": 66,
   "outputs": [],
   "source": [],
   "metadata": {
    "collapsed": false
   }
  }
 ],
 "metadata": {
  "kernelspec": {
   "display_name": "Python 3",
   "language": "python",
   "name": "python3"
  },
  "language_info": {
   "codemirror_mode": {
    "name": "ipython",
    "version": 2
   },
   "file_extension": ".py",
   "mimetype": "text/x-python",
   "name": "python",
   "nbconvert_exporter": "python",
   "pygments_lexer": "ipython2",
   "version": "2.7.6"
  }
 },
 "nbformat": 4,
 "nbformat_minor": 0
}
