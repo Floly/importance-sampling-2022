{
 "cells": [
  {
   "cell_type": "code",
   "execution_count": 10,
   "id": "42071cc8",
   "metadata": {
    "ExecuteTime": {
     "end_time": "2022-10-31T18:13:54.719099Z",
     "start_time": "2022-10-31T18:13:54.685423Z"
    }
   },
   "outputs": [
    {
     "name": "stdout",
     "output_type": "stream",
     "text": [
      "The autoreload extension is already loaded. To reload it, use:\n",
      "  %reload_ext autoreload\n"
     ]
    }
   ],
   "source": [
    "import sys\n",
    "sys.path.append(\"./\")\n",
    "%load_ext autoreload\n",
    "%autoreload 2"
   ]
  },
  {
   "cell_type": "code",
   "execution_count": 11,
   "id": "d6f13252",
   "metadata": {
    "ExecuteTime": {
     "end_time": "2022-10-31T18:13:54.940838Z",
     "start_time": "2022-10-31T18:13:54.908080Z"
    }
   },
   "outputs": [],
   "source": [
    "import pandas as pd\n",
    "import numpy as np\n",
    "import matplotlib.pyplot as plt\n",
    "import seaborn as sns\n",
    "\n",
    "sns.set()"
   ]
  },
  {
   "cell_type": "markdown",
   "id": "d1e66ce0",
   "metadata": {},
   "source": [
    "## Data"
   ]
  },
  {
   "cell_type": "code",
   "execution_count": 26,
   "id": "5bb0edb2",
   "metadata": {
    "ExecuteTime": {
     "end_time": "2022-10-31T18:21:28.279323Z",
     "start_time": "2022-10-31T18:21:28.224483Z"
    }
   },
   "outputs": [],
   "source": [
    "import data"
   ]
  },
  {
   "cell_type": "code",
   "execution_count": 27,
   "id": "66ee7c3b",
   "metadata": {
    "ExecuteTime": {
     "end_time": "2022-10-31T18:21:28.415739Z",
     "start_time": "2022-10-31T18:21:28.387414Z"
    }
   },
   "outputs": [],
   "source": [
    "df = pd.read_csv(\"stocks.csv\", index_col=0)"
   ]
  },
  {
   "cell_type": "code",
   "execution_count": 28,
   "id": "da54ab12",
   "metadata": {
    "ExecuteTime": {
     "end_time": "2022-10-31T18:21:28.635990Z",
     "start_time": "2022-10-31T18:21:28.596018Z"
    }
   },
   "outputs": [
    {
     "data": {
      "text/html": [
       "<div>\n",
       "<style scoped>\n",
       "    .dataframe tbody tr th:only-of-type {\n",
       "        vertical-align: middle;\n",
       "    }\n",
       "\n",
       "    .dataframe tbody tr th {\n",
       "        vertical-align: top;\n",
       "    }\n",
       "\n",
       "    .dataframe thead th {\n",
       "        text-align: right;\n",
       "    }\n",
       "</style>\n",
       "<table border=\"1\" class=\"dataframe\">\n",
       "  <thead>\n",
       "    <tr style=\"text-align: right;\">\n",
       "      <th></th>\n",
       "      <th>AAPL</th>\n",
       "      <th>AMD</th>\n",
       "      <th>AMZN</th>\n",
       "      <th>GOOGL</th>\n",
       "      <th>INTC</th>\n",
       "      <th>META</th>\n",
       "      <th>MSFT</th>\n",
       "      <th>MU</th>\n",
       "      <th>NVDA</th>\n",
       "      <th>TSLA</th>\n",
       "    </tr>\n",
       "    <tr>\n",
       "      <th>Date</th>\n",
       "      <th></th>\n",
       "      <th></th>\n",
       "      <th></th>\n",
       "      <th></th>\n",
       "      <th></th>\n",
       "      <th></th>\n",
       "      <th></th>\n",
       "      <th></th>\n",
       "      <th></th>\n",
       "      <th></th>\n",
       "    </tr>\n",
       "  </thead>\n",
       "  <tbody>\n",
       "    <tr>\n",
       "      <th>2019-12-31</th>\n",
       "      <td>73.412498</td>\n",
       "      <td>45.860001</td>\n",
       "      <td>92.391998</td>\n",
       "      <td>66.969498</td>\n",
       "      <td>59.849998</td>\n",
       "      <td>205.250000</td>\n",
       "      <td>157.699997</td>\n",
       "      <td>53.779999</td>\n",
       "      <td>58.825001</td>\n",
       "      <td>27.888666</td>\n",
       "    </tr>\n",
       "    <tr>\n",
       "      <th>2020-01-02</th>\n",
       "      <td>75.087502</td>\n",
       "      <td>49.099998</td>\n",
       "      <td>94.900497</td>\n",
       "      <td>68.433998</td>\n",
       "      <td>60.840000</td>\n",
       "      <td>209.779999</td>\n",
       "      <td>160.619995</td>\n",
       "      <td>55.389999</td>\n",
       "      <td>59.977501</td>\n",
       "      <td>28.684000</td>\n",
       "    </tr>\n",
       "    <tr>\n",
       "      <th>2020-01-03</th>\n",
       "      <td>74.357498</td>\n",
       "      <td>48.599998</td>\n",
       "      <td>93.748497</td>\n",
       "      <td>68.075996</td>\n",
       "      <td>60.099998</td>\n",
       "      <td>208.669998</td>\n",
       "      <td>158.619995</td>\n",
       "      <td>54.529999</td>\n",
       "      <td>59.017502</td>\n",
       "      <td>29.534000</td>\n",
       "    </tr>\n",
       "    <tr>\n",
       "      <th>2020-01-06</th>\n",
       "      <td>74.949997</td>\n",
       "      <td>48.389999</td>\n",
       "      <td>95.143997</td>\n",
       "      <td>69.890503</td>\n",
       "      <td>59.930000</td>\n",
       "      <td>212.600006</td>\n",
       "      <td>159.029999</td>\n",
       "      <td>53.570000</td>\n",
       "      <td>59.264999</td>\n",
       "      <td>30.102667</td>\n",
       "    </tr>\n",
       "    <tr>\n",
       "      <th>2020-01-07</th>\n",
       "      <td>74.597504</td>\n",
       "      <td>48.250000</td>\n",
       "      <td>95.343002</td>\n",
       "      <td>69.755501</td>\n",
       "      <td>58.930000</td>\n",
       "      <td>213.059998</td>\n",
       "      <td>157.580002</td>\n",
       "      <td>58.270000</td>\n",
       "      <td>59.982498</td>\n",
       "      <td>31.270666</td>\n",
       "    </tr>\n",
       "    <tr>\n",
       "      <th>...</th>\n",
       "      <td>...</td>\n",
       "      <td>...</td>\n",
       "      <td>...</td>\n",
       "      <td>...</td>\n",
       "      <td>...</td>\n",
       "      <td>...</td>\n",
       "      <td>...</td>\n",
       "      <td>...</td>\n",
       "      <td>...</td>\n",
       "      <td>...</td>\n",
       "    </tr>\n",
       "    <tr>\n",
       "      <th>2022-09-26</th>\n",
       "      <td>150.770004</td>\n",
       "      <td>66.300003</td>\n",
       "      <td>115.150002</td>\n",
       "      <td>98.169998</td>\n",
       "      <td>26.969999</td>\n",
       "      <td>136.369995</td>\n",
       "      <td>237.449997</td>\n",
       "      <td>48.880001</td>\n",
       "      <td>122.279999</td>\n",
       "      <td>276.010010</td>\n",
       "    </tr>\n",
       "    <tr>\n",
       "      <th>2022-09-27</th>\n",
       "      <td>151.759995</td>\n",
       "      <td>67.169998</td>\n",
       "      <td>114.410004</td>\n",
       "      <td>97.500000</td>\n",
       "      <td>26.889999</td>\n",
       "      <td>134.399994</td>\n",
       "      <td>236.410004</td>\n",
       "      <td>50.580002</td>\n",
       "      <td>124.129997</td>\n",
       "      <td>282.940002</td>\n",
       "    </tr>\n",
       "    <tr>\n",
       "      <th>2022-09-28</th>\n",
       "      <td>149.839996</td>\n",
       "      <td>68.360001</td>\n",
       "      <td>118.010002</td>\n",
       "      <td>100.050003</td>\n",
       "      <td>27.129999</td>\n",
       "      <td>141.610001</td>\n",
       "      <td>241.070007</td>\n",
       "      <td>51.000000</td>\n",
       "      <td>127.360001</td>\n",
       "      <td>287.809998</td>\n",
       "    </tr>\n",
       "    <tr>\n",
       "      <th>2022-09-29</th>\n",
       "      <td>142.479996</td>\n",
       "      <td>64.139999</td>\n",
       "      <td>114.800003</td>\n",
       "      <td>97.419998</td>\n",
       "      <td>26.379999</td>\n",
       "      <td>136.410004</td>\n",
       "      <td>237.500000</td>\n",
       "      <td>50.009998</td>\n",
       "      <td>122.199997</td>\n",
       "      <td>268.209991</td>\n",
       "    </tr>\n",
       "    <tr>\n",
       "      <th>2022-09-30</th>\n",
       "      <td>138.199997</td>\n",
       "      <td>63.360001</td>\n",
       "      <td>113.000000</td>\n",
       "      <td>95.650002</td>\n",
       "      <td>25.770000</td>\n",
       "      <td>135.679993</td>\n",
       "      <td>232.899994</td>\n",
       "      <td>50.099998</td>\n",
       "      <td>121.389999</td>\n",
       "      <td>265.250000</td>\n",
       "    </tr>\n",
       "  </tbody>\n",
       "</table>\n",
       "<p>694 rows × 10 columns</p>\n",
       "</div>"
      ],
      "text/plain": [
       "                  AAPL        AMD        AMZN       GOOGL       INTC  \\\n",
       "Date                                                                   \n",
       "2019-12-31   73.412498  45.860001   92.391998   66.969498  59.849998   \n",
       "2020-01-02   75.087502  49.099998   94.900497   68.433998  60.840000   \n",
       "2020-01-03   74.357498  48.599998   93.748497   68.075996  60.099998   \n",
       "2020-01-06   74.949997  48.389999   95.143997   69.890503  59.930000   \n",
       "2020-01-07   74.597504  48.250000   95.343002   69.755501  58.930000   \n",
       "...                ...        ...         ...         ...        ...   \n",
       "2022-09-26  150.770004  66.300003  115.150002   98.169998  26.969999   \n",
       "2022-09-27  151.759995  67.169998  114.410004   97.500000  26.889999   \n",
       "2022-09-28  149.839996  68.360001  118.010002  100.050003  27.129999   \n",
       "2022-09-29  142.479996  64.139999  114.800003   97.419998  26.379999   \n",
       "2022-09-30  138.199997  63.360001  113.000000   95.650002  25.770000   \n",
       "\n",
       "                  META        MSFT         MU        NVDA        TSLA  \n",
       "Date                                                                   \n",
       "2019-12-31  205.250000  157.699997  53.779999   58.825001   27.888666  \n",
       "2020-01-02  209.779999  160.619995  55.389999   59.977501   28.684000  \n",
       "2020-01-03  208.669998  158.619995  54.529999   59.017502   29.534000  \n",
       "2020-01-06  212.600006  159.029999  53.570000   59.264999   30.102667  \n",
       "2020-01-07  213.059998  157.580002  58.270000   59.982498   31.270666  \n",
       "...                ...         ...        ...         ...         ...  \n",
       "2022-09-26  136.369995  237.449997  48.880001  122.279999  276.010010  \n",
       "2022-09-27  134.399994  236.410004  50.580002  124.129997  282.940002  \n",
       "2022-09-28  141.610001  241.070007  51.000000  127.360001  287.809998  \n",
       "2022-09-29  136.410004  237.500000  50.009998  122.199997  268.209991  \n",
       "2022-09-30  135.679993  232.899994  50.099998  121.389999  265.250000  \n",
       "\n",
       "[694 rows x 10 columns]"
      ]
     },
     "execution_count": 28,
     "metadata": {},
     "output_type": "execute_result"
    }
   ],
   "source": [
    "df"
   ]
  },
  {
   "cell_type": "code",
   "execution_count": 29,
   "id": "8122e508",
   "metadata": {
    "ExecuteTime": {
     "end_time": "2022-10-31T18:21:29.305412Z",
     "start_time": "2022-10-31T18:21:29.267744Z"
    }
   },
   "outputs": [],
   "source": [
    "assets = [\"AAPL\"]\n",
    "weights = [1.0]\n",
    "returns = data.stocks_returns(assets, weights, from_date=\"09/02/2022\", to_date=\"09/07/2022\")"
   ]
  },
  {
   "cell_type": "code",
   "execution_count": 30,
   "id": "538074dc",
   "metadata": {
    "ExecuteTime": {
     "end_time": "2022-10-31T18:21:31.525692Z",
     "start_time": "2022-10-31T18:21:31.497069Z"
    }
   },
   "outputs": [
    {
     "data": {
      "text/plain": [
       "Date\n",
       "2022-09-02   -0.013611\n",
       "2022-09-06   -0.008215\n",
       "2022-09-07    0.009254\n",
       "dtype: float64"
      ]
     },
     "execution_count": 30,
     "metadata": {},
     "output_type": "execute_result"
    }
   ],
   "source": [
    "returns"
   ]
  },
  {
   "cell_type": "code",
   "execution_count": null,
   "id": "d832c3f0",
   "metadata": {},
   "outputs": [],
   "source": []
  }
 ],
 "metadata": {
  "kernelspec": {
   "display_name": "Python 3 (ipykernel)",
   "language": "python",
   "name": "python3"
  },
  "language_info": {
   "codemirror_mode": {
    "name": "ipython",
    "version": 3
   },
   "file_extension": ".py",
   "mimetype": "text/x-python",
   "name": "python",
   "nbconvert_exporter": "python",
   "pygments_lexer": "ipython3",
   "version": "3.10.6"
  },
  "toc": {
   "base_numbering": 1,
   "nav_menu": {},
   "number_sections": true,
   "sideBar": true,
   "skip_h1_title": false,
   "title_cell": "Table of Contents",
   "title_sidebar": "Contents",
   "toc_cell": false,
   "toc_position": {},
   "toc_section_display": true,
   "toc_window_display": true
  }
 },
 "nbformat": 4,
 "nbformat_minor": 5
}
