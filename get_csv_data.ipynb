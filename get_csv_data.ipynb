{
 "cells": [
  {
   "cell_type": "markdown",
   "source": [
    "This notebook contains the code that was used to create csv files with assets price data."
   ],
   "metadata": {
    "collapsed": false
   }
  },
  {
   "cell_type": "code",
   "execution_count": 3,
   "outputs": [],
   "source": [
    "import pandas as pd\n",
    "import investiny"
   ],
   "metadata": {
    "collapsed": false
   }
  },
  {
   "cell_type": "markdown",
   "source": [
    "# Stocks"
   ],
   "metadata": {
    "collapsed": false
   }
  },
  {
   "cell_type": "code",
   "execution_count": 93,
   "outputs": [],
   "source": [
    "stocks = ['AAPL', 'AMD', 'TSLA', 'AMZN', 'NVDA', 'INTC', 'MU', 'MSFT', 'META', 'GOOGL']"
   ],
   "metadata": {
    "collapsed": false
   }
  },
  {
   "cell_type": "code",
   "execution_count": 94,
   "outputs": [
    {
     "name": "stdout",
     "output_type": "stream",
     "text": [
      "{'symbol': 'AAPL', 'full_name': 'NASDAQ:AAPL', 'description': 'Apple Inc', 'type': 'Stock', 'ticker': '6408', 'exchange': 'NASDAQ'}\n",
      "{'symbol': 'AMD', 'full_name': 'NASDAQ:AMD', 'description': 'Advanced Micro Devices Inc', 'type': 'Stock', 'ticker': '8274', 'exchange': 'NASDAQ'}\n",
      "{'symbol': 'TSLA', 'full_name': 'NASDAQ:TSLA', 'description': 'Tesla Inc', 'type': 'Stock', 'ticker': '13994', 'exchange': 'NASDAQ'}\n",
      "{'symbol': 'AMZN', 'full_name': 'NASDAQ:AMZN', 'description': 'Amazon.com Inc', 'type': 'Stock', 'ticker': '6435', 'exchange': 'NASDAQ'}\n",
      "{'symbol': 'NVDA', 'full_name': 'NASDAQ:NVDA', 'description': 'NVIDIA Corporation', 'type': 'Stock', 'ticker': '6497', 'exchange': 'NASDAQ'}\n",
      "{'symbol': 'INTC', 'full_name': 'NASDAQ:INTC', 'description': 'Intel Corporation', 'type': 'Stock', 'ticker': '251', 'exchange': 'NASDAQ'}\n",
      "{'symbol': 'MU', 'full_name': 'NASDAQ:MU', 'description': 'Micron Technology Inc', 'type': 'Stock', 'ticker': '8092', 'exchange': 'NASDAQ'}\n",
      "{'symbol': 'MSFT', 'full_name': 'NASDAQ:MSFT', 'description': 'Microsoft Corporation', 'type': 'Stock', 'ticker': '252', 'exchange': 'NASDAQ'}\n",
      "{'symbol': 'META', 'full_name': 'NASDAQ:META', 'description': 'Meta Platforms Inc', 'type': 'Stock', 'ticker': '26490', 'exchange': 'NASDAQ'}\n",
      "{'symbol': 'GOOGL', 'full_name': 'NASDAQ:GOOGL', 'description': 'Alphabet Inc Class A', 'type': 'Stock', 'ticker': '6369', 'exchange': 'NASDAQ'}\n"
     ]
    }
   ],
   "source": [
    "EXCHANGE_STOCKS = 'NASDAQ'\n",
    "investing_id_stocks = {}\n",
    "for ticker in stocks:\n",
    "    results = investiny.search_assets(query=ticker, type='Stock', exchange=EXCHANGE_STOCKS)\n",
    "    for result in results:\n",
    "        if result['full_name'] == f'{EXCHANGE_STOCKS}:{ticker}':\n",
    "            break\n",
    "    print(result)\n",
    "    investing_id_stocks[ticker] = result['ticker']"
   ],
   "metadata": {
    "collapsed": false
   }
  },
  {
   "cell_type": "code",
   "execution_count": 95,
   "outputs": [
    {
     "data": {
      "text/plain": "{'AAPL': '6408',\n 'AMD': '8274',\n 'TSLA': '13994',\n 'AMZN': '6435',\n 'NVDA': '6497',\n 'INTC': '251',\n 'MU': '8092',\n 'MSFT': '252',\n 'META': '26490',\n 'GOOGL': '6369'}"
     },
     "execution_count": 95,
     "metadata": {},
     "output_type": "execute_result"
    }
   ],
   "source": [
    "investing_id_stocks"
   ],
   "metadata": {
    "collapsed": false
   }
  },
  {
   "cell_type": "code",
   "execution_count": 69,
   "outputs": [],
   "source": [
    "# For the following assets, the data source on investing.com is NASDAQ\n",
    "investing_id_stocks = {\n",
    "    'AAPL': 6408,\n",
    "    'AMD': 8274,\n",
    "    'TSLA': 13994,\n",
    "    'AMZN': 6435,\n",
    "    'NVDA': 6497,\n",
    "    'INTC': 251,\n",
    "    'MU': 8092,\n",
    "    'MSFT': 252,\n",
    "    'META': 26490,\n",
    "    'GOOGL': 6369\n",
    "}"
   ],
   "metadata": {
    "collapsed": false
   }
  },
  {
   "cell_type": "markdown",
   "source": [
    "# Commodities"
   ],
   "metadata": {
    "collapsed": false
   }
  },
  {
   "cell_type": "markdown",
   "source": [
    "For commodities, investing.com id's were searched manually to ensure the correct ticker is choosed."
   ],
   "metadata": {
    "collapsed": false
   }
  },
  {
   "cell_type": "code",
   "execution_count": null,
   "outputs": [],
   "source": [
    "investiny.search_assets(query='ZC', type='Commodity')"
   ],
   "metadata": {
    "collapsed": false,
    "pycharm": {
     "is_executing": true
    }
   }
  },
  {
   "cell_type": "code",
   "execution_count": 108,
   "outputs": [],
   "source": [
    "# For the following assets, the data source on investing.com is capital.com\n",
    "investing_id_commodities = {\n",
    "    'Brent Oil Futures': 8833,\n",
    "    'Crude Oil WTI Futures': 8849,\n",
    "    'Natural Gas Futures': 8862,\n",
    "    'Heating Oil Futures': 8988,\n",
    "    'Gold Futures': 8830,\n",
    "    'Silver Futures': 8836,\n",
    "    'Copper Futures': 8831,  # ticker: HG, exchange: COMEX\n",
    "    'Platinum Futures': 8910,\n",
    "    'US Coffee C Futures': 8832,\n",
    "    'US Corn Futures': 8918,\n",
    "}"
   ],
   "metadata": {
    "collapsed": false
   }
  },
  {
   "cell_type": "markdown",
   "source": [
    "# Cryptocurrencies"
   ],
   "metadata": {
    "collapsed": false
   }
  },
  {
   "cell_type": "markdown",
   "source": [
    "For crypto, investing.com id's were also searched manually.\n",
    "\n",
    "There was no USDT/USD data on Binance data source, so for this pair I used the data provided by Kraken.\n",
    "\n",
    "Also, for DOGE/USD I used Huobi as data source, because Binance only had the data starting from 2022-09-14."
   ],
   "metadata": {
    "collapsed": false
   },
   "outputs": []
  },
  {
   "cell_type": "code",
   "execution_count": null,
   "outputs": [],
   "source": [
    "investiny.search_assets(query='DOGE/USD', limit=100)"
   ],
   "metadata": {
    "collapsed": false,
    "pycharm": {
     "is_executing": true
    }
   }
  },
  {
   "cell_type": "code",
   "execution_count": 217,
   "outputs": [],
   "source": [
    "# For the following assets, the data source on investing.com is Binance,\n",
    "# unless otherwise specified\n",
    "investing_id_crypto = {\n",
    "    'ETH': 1058142,\n",
    "    'USDT': 1031397,  # exchange: Kraken\n",
    "    'USDC': 1142432,\n",
    "    'BNB': 1054919,\n",
    "    'XRP': 1075586,\n",
    "    'BUSD': 1172746,\n",
    "    'ADA': 1073899,\n",
    "    # 'SOL': 1173409,\n",
    "    'DOGE': 1128789,  # exchange: Huobi\n",
    "}"
   ],
   "metadata": {
    "collapsed": false
   }
  },
  {
   "cell_type": "markdown",
   "source": [
    "# Download data"
   ],
   "metadata": {
    "collapsed": false
   }
  },
  {
   "cell_type": "code",
   "execution_count": 218,
   "outputs": [],
   "source": [
    "def get_df(investing_id, from_date, to_date, actual_min_date) -> pd.DataFrame:\n",
    "    \"\"\"Creates pandas.DataFrame with historical market data for given financial asset.\n",
    "\n",
    "    All parameters, except `actual_min_date`, are passed to investiny.historical_data().\n",
    "    See documentation for this function for the meaning of these parameters.\n",
    "\n",
    "    The date `from_date` should be at least a week before than `actual_min_date` to make\n",
    "    sure that the data contains the previous trading day before from_date. This is needed\n",
    "    because for some assets there is no data available on 01/01/2020 (the minimum possible\n",
    "    value of parameter `from_date` in returns generating functions in `data.py`).\n",
    "\n",
    "    IMPORTANT: all dates must be in format 'MM/DD/YYYY'\n",
    "\n",
    "    :param actual_min_date: the minimum possible value of parameter `from_date`\n",
    "        in returns generating functions in `data.py`\n",
    "    :return: pandas.DataFrame with historical market data, including one previous\n",
    "        trading day before the date `from_date`.\n",
    "    \"\"\"\n",
    "    data_dict = investiny.historical_data(investing_id, from_date, to_date)\n",
    "    df = pd.DataFrame.from_dict(data_dict)\n",
    "    df['date'] = pd.to_datetime(df['date'])\n",
    "    # index of the row that is previous to `actual_min_date`\n",
    "    previous_to_min = df.loc[df['date'] == actual_min_date].index.item() - 1\n",
    "    df = df.iloc[previous_to_min:]\n",
    "    return df"
   ],
   "metadata": {
    "collapsed": false
   }
  },
  {
   "cell_type": "code",
   "execution_count": 219,
   "outputs": [],
   "source": [
    "# dates format: MM/DD/YYYY\n",
    "actual_min_date = '01/02/2020'\n",
    "from_date = '12/01/2019'\n",
    "to_date = '10/01/2022'"
   ],
   "metadata": {
    "collapsed": false
   }
  },
  {
   "cell_type": "code",
   "execution_count": 71,
   "outputs": [],
   "source": [
    "for ticker in stocks:\n",
    "    df = get_df(investing_id_stocks[ticker], from_date, to_date, actual_min_date)\n",
    "    df.to_csv(f'data/stocks/{ticker}.csv', index=False)"
   ],
   "metadata": {
    "collapsed": false
   }
  },
  {
   "cell_type": "code",
   "execution_count": 112,
   "outputs": [],
   "source": [
    "for name in investing_id_commodities.keys():\n",
    "    df = get_df(investing_id_commodities[name], from_date, to_date, actual_min_date)\n",
    "    df.to_csv(f'data/commodities/{name}.csv', index=False)"
   ],
   "metadata": {
    "collapsed": false
   }
  },
  {
   "cell_type": "code",
   "execution_count": 220,
   "outputs": [],
   "source": [
    "for name in investing_id_crypto.keys():\n",
    "    df = get_df(investing_id_crypto[name], from_date, to_date, actual_min_date)\n",
    "    df.to_csv(f'data/crypto/{name}.csv', index=False)"
   ],
   "metadata": {
    "collapsed": false
   }
  },
  {
   "cell_type": "markdown",
   "source": [
    "For BTC, I could not find data from Binance on investing.com using `investiny`, so I manually downloaded the csv data from [https://www.investing.com/crypto/bitcoin/btc-usd?cid=1035793](https://www.investing.com/crypto/bitcoin/btc-usd?cid=1035793) and renamed the columns."
   ],
   "metadata": {
    "collapsed": false
   }
  },
  {
   "cell_type": "code",
   "execution_count": 228,
   "outputs": [],
   "source": [
    "def process_raw_csv(in_path, out_path):\n",
    "    \"\"\" Converts the csv with historical data from investing.com to more usable format \"\"\"\n",
    "    df = pd.read_csv(in_path)\n",
    "    df = df.rename(columns={'Date': 'date', 'Price': 'close', 'Open': 'open', 'High': 'high', 'Low': 'low', 'Vol.': 'volume'})\n",
    "    df = df.drop(columns=['Change %'])\n",
    "    df = df[['date', 'open', 'high', 'low', 'close', 'volume']]\n",
    "\n",
    "    df['date'] = pd.to_datetime(df['date'])\n",
    "    for col_name in ['open', 'high', 'low', 'close']:\n",
    "        df[col_name] = df[col_name].str.replace(',', '', regex=False).astype(float)\n",
    "    df['volume'] = df['volume'].str.replace('K', '', regex=False).astype(float) * 1000\n",
    "    df['volume'] = df['volume'].round().astype(int)\n",
    "    df = df.iloc[::-1]\n",
    "    df.to_csv(out_path, index=False)"
   ],
   "metadata": {
    "collapsed": false
   }
  },
  {
   "cell_type": "code",
   "execution_count": 229,
   "outputs": [],
   "source": [
    "process_raw_csv(in_path='data/crypto/BTC_raw.csv', out_path='data/crypto/BTC.csv')"
   ],
   "metadata": {
    "collapsed": false
   }
  },
  {
   "cell_type": "code",
   "execution_count": null,
   "outputs": [],
   "source": [],
   "metadata": {
    "collapsed": false
   }
  }
 ],
 "metadata": {
  "kernelspec": {
   "display_name": "Python 3",
   "language": "python",
   "name": "python3"
  },
  "language_info": {
   "codemirror_mode": {
    "name": "ipython",
    "version": 2
   },
   "file_extension": ".py",
   "mimetype": "text/x-python",
   "name": "python",
   "nbconvert_exporter": "python",
   "pygments_lexer": "ipython2",
   "version": "2.7.6"
  }
 },
 "nbformat": 4,
 "nbformat_minor": 0
}
