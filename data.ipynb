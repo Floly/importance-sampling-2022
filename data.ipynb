{
 "cells": [
  {
   "cell_type": "code",
   "execution_count": 13,
   "id": "205c32a4",
   "metadata": {},
   "outputs": [],
   "source": [
    "import pandas as pd\n",
    "import gdown\n",
    "import numpy as np"
   ]
  },
  {
   "cell_type": "code",
   "execution_count": 2,
   "id": "f51469c9",
   "metadata": {},
   "outputs": [],
   "source": [
    "def stocks_returns(assets, weights, from_date, to_date):\n",
    "    url = 'https://drive.google.com/file/d/10HtNCH9L2G6irBpWjOIKRGA7zFFAH6Gd/view?usp=sharing'\n",
    "    gdown.download(url, 'stock_prices.csv', fuzzy=True)\n",
    "    stock_prices = pd.read_csv('stock_prices.csv', index_col='date')\n",
    "    portfolio = (stock_prices[assets]*weights).sum(axis=1)\n",
    "    portfolio.index = pd.to_datetime(portfolio.index)\n",
    "    portfolio=portfolio[(portfolio.index >= (portfolio[portfolio.index < pd.to_datetime(from_date)].index[-1]))&(portfolio.index <= pd.to_datetime(to_date))]\n",
    "    returns=[]\n",
    "    for i in range(len(portfolio)):\n",
    "        if i == len(portfolio)-1:\n",
    "            break\n",
    "        returns.append((portfolio[i+1]-portfolio[i])/portfolio[i])\n",
    "    returns = pd.Series(data=returns, index=portfolio.index[1:])\n",
    "    return returns"
   ]
  },
  {
   "cell_type": "code",
   "execution_count": 3,
   "id": "029aa3c1",
   "metadata": {},
   "outputs": [],
   "source": [
    "def commodities_returns(assets, weights, from_date, to_date):\n",
    "    url = 'https://drive.google.com/file/d/1baSJfugJD20Dzn4fNWmefhHd2JFlFv72/view?usp=sharing'\n",
    "    gdown.download(url, 'commodities.csv', fuzzy=True)\n",
    "    stock_prices = pd.read_csv('stock_prices.csv', index_col='date')\n",
    "    portfolio = (stock_prices[assets]*weights).sum(axis=1)\n",
    "    portfolio.index = pd.to_datetime(portfolio.index)\n",
    "    portfolio=portfolio[(portfolio.index >= (portfolio[portfolio.index < pd.to_datetime(from_date)].index[-1]))&(portfolio.index <= pd.to_datetime(to_date))]\n",
    "    returns=[]\n",
    "    for i in range(len(portfolio)):\n",
    "        if i == len(portfolio)-1:\n",
    "            break\n",
    "        returns.append((portfolio[i+1]-portfolio[i])/portfolio[i])\n",
    "    returns = pd.Series(data=returns, index=portfolio.index[1:])\n",
    "    return returns"
   ]
  },
  {
   "cell_type": "code",
   "execution_count": 4,
   "id": "0f64a71c",
   "metadata": {},
   "outputs": [],
   "source": [
    "def cryptocurrencies_returns(assets, weights, from_date, to_date):\n",
    "    url = 'https://drive.google.com/file/d/1u-zrk2syTIcn6D5sk8q-sjxtRpzK2S5o/view?usp=sharing'\n",
    "    gdown.download(url, 'crypto.csv', fuzzy=True)\n",
    "    stock_prices = pd.read_csv('crypto.csv', index_col='date')\n",
    "    portfolio = (stock_prices[assets]*weights).sum(axis=1)\n",
    "    portfolio.index = pd.to_datetime(portfolio.index)\n",
    "    portfolio=portfolio[(portfolio.index >= (portfolio[portfolio.index < pd.to_datetime(from_date)].index[-1]))&(portfolio.index <= pd.to_datetime(to_date))]\n",
    "    returns=[]\n",
    "    for i in range(len(portfolio)):\n",
    "        if i == len(portfolio)-1:\n",
    "            break\n",
    "        returns.append((portfolio[i+1]-portfolio[i])/portfolio[i])\n",
    "    returns = pd.Series(data=returns, index=portfolio.index[1:])\n",
    "    return returns"
   ]
  }
 ],
 "metadata": {
  "kernelspec": {
   "display_name": "Python 3",
   "language": "python",
   "name": "python3"
  },
  "language_info": {
   "codemirror_mode": {
    "name": "ipython",
    "version": 3
   },
   "file_extension": ".py",
   "mimetype": "text/x-python",
   "name": "python",
   "nbconvert_exporter": "python",
   "pygments_lexer": "ipython3",
   "version": "3.8.8"
  }
 },
 "nbformat": 4,
 "nbformat_minor": 5
}
